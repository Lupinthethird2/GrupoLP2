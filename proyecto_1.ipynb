{
 "cells": [
  {
   "cell_type": "markdown",
   "id": "0fd858f0",
   "metadata": {},
   "source": [
    "<table style=\"background-color: #f0f0f0; padding: 10px; width: auto;\">\n",
    "<tr>\n",
    "<td style=\"background-color: #ffffff; vertical-align: middle;\"><img src=\"https://th.bing.com/th/id/OIP.zZshkvEYWRVv1orlaBMmjwHaHa?w=155&h=180&c=7&r=0&o=5&pid=1.7\" alt=\"Logo\" style=\"width: 150px;\"/></td>\n",
    "<td style=\"text-align: left; vertical-align: middle; padding-left: 10px;\">\n",
    "<h2 style=\"color: #2c3e50; margin: 5;\">UNIVERSIDAD NACIONAL AGRARIA LA MOLINA</h2>  \n",
    "<h3 style=\"color: #2c3e50; margin: 5;\">FACULTAD DE ECONOMÍA Y PLANIFICACIÓN</h3>  \n",
    "<h5 style=\"color: #2c3e50; margin: 5;\">DEPARTAMENTO DE ESTADÍSTICA E INFORMÁTICA</h5>\n",
    "</td>\n",
    "</tr>\n",
    "</table"
   ]
  },
  {
   "cell_type": "markdown",
   "id": "e92971c6",
   "metadata": {},
   "source": [
    "## INTEGRANTES:"
   ]
  },
  {
   "cell_type": "markdown",
   "id": "3b89f49e",
   "metadata": {},
   "source": [
    "<table border=\"1\">\n",
    "  <thead>\n",
    "    <tr>\n",
    "      <th>N°</th>\n",
    "      <th>NOMBRES</th>\n",
    "      <th>CÓDIGO</th>\n",
    "    </tr>\n",
    "  </thead>\n",
    "  <tbody>\n",
    "    <tr>\n",
    "      <td>1</td>\n",
    "      <td>Sandro Werlen Cáceres</td>\n",
    "      <td>20251234</td>\n",
    "    </tr>\n",
    "    <tr>\n",
    "      <td>2</td>\n",
    "      <td>Nicholas Espinoza Loaiza</td>\n",
    "      <td>20254567</td>\n",
    "    </tr>\n",
    "    <tr>\n",
    "      <td>3</td>\n",
    "      <td>Werlen Soriano Aydan Alessandro </td>\n",
    "      <td>20257890</td>\n",
    "    </tr>\n",
    "    <tr>\n",
    "      <td>4</td>\n",
    "      <td>Lucía Martínez</td>\n",
    "      <td>20253421</td>\n",
    "    </tr>\n",
    "  </tbody>\n",
    "</table>\n"
   ]
  }
 ],
 "metadata": {
  "language_info": {
   "name": "python"
  }
 },
 "nbformat": 4,
 "nbformat_minor": 5
}
